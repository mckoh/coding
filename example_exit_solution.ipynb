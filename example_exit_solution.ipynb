{
 "cells": [
  {
   "cell_type": "code",
   "execution_count": null,
   "metadata": {},
   "outputs": [],
   "source": [
    "A, B, C, D = 0, 0, 0, 0\n",
    "\n",
    "max_value = 36\n",
    "\n",
    "for A in range(1, max_value):\n",
    "    for B in range(1, max_value):\n",
    "        for C in range(1, max_value):\n",
    "            for D in range(1, max_value):\n",
    "\n",
    "                row_1 = (D + C + D + A) == 15\n",
    "                row_2 = (B + A + A + D) == 22\n",
    "                row_3 = (C + B + D + B) == 36\n",
    "                row_4 = (D + C + A + C) == 23\n",
    "\n",
    "                col_1 = (D + B + C + D) == 24\n",
    "                col_2 = (C + A + B + C) == 35\n",
    "                col_3 = (D + A + D + A) == 10\n",
    "                col_4 = (A + D + B + C) == 27\n",
    "\n",
    "                if row_1 and row_2 and row_3 and row_4:\n",
    "                    if col_1 and col_2 and col_3 and col_4:\n",
    "                        print(A, B, C, D)"
   ]
  }
 ],
 "metadata": {
  "kernelspec": {
   "display_name": "Python 3",
   "language": "python",
   "name": "python3"
  },
  "language_info": {
   "name": "python",
   "version": "3.9.9"
  }
 },
 "nbformat": 4,
 "nbformat_minor": 2
}
